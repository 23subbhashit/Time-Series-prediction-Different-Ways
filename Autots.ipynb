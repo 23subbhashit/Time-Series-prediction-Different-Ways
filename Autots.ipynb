{
  "nbformat": 4,
  "nbformat_minor": 0,
  "metadata": {
    "colab": {
      "name": "Copy of Copy of Autots.ipynb",
      "provenance": [],
      "collapsed_sections": [],
      "include_colab_link": true
    },
    "kernelspec": {
      "name": "python3",
      "display_name": "Python 3"
    }
  },
  "cells": [
    {
      "cell_type": "markdown",
      "metadata": {
        "id": "view-in-github",
        "colab_type": "text"
      },
      "source": [
        "<a href=\"https://colab.research.google.com/github/23subbhashit/Time-Series-prediction-Different-Ways/blob/master/Copy_of_Copy_of_Autots.ipynb\" target=\"_parent\"><img src=\"https://colab.research.google.com/assets/colab-badge.svg\" alt=\"Open In Colab\"/></a>"
      ]
    },
    {
      "cell_type": "code",
      "metadata": {
        "id": "cwjToULc3SSj",
        "colab_type": "code",
        "colab": {
          "base_uri": "https://localhost:8080/",
          "height": 1000
        },
        "outputId": "cb97e2f9-31bd-4f09-c442-4955e545b09c"
      },
      "source": [
        "pip install auto_ts"
      ],
      "execution_count": null,
      "outputs": [
        {
          "output_type": "stream",
          "text": [
            "Collecting auto_ts\n",
            "\u001b[?25l  Downloading https://files.pythonhosted.org/packages/5a/bc/2aefba191eec366ff52bd6ac4b1787d81be3a163dc244d046a81f965875f/auto_ts-0.0.20-py3-none-any.whl (50kB)\n",
            "\r\u001b[K     |██████▌                         | 10kB 22.8MB/s eta 0:00:01\r\u001b[K     |█████████████                   | 20kB 6.0MB/s eta 0:00:01\r\u001b[K     |███████████████████▋            | 30kB 7.2MB/s eta 0:00:01\r\u001b[K     |██████████████████████████▏     | 40kB 8.3MB/s eta 0:00:01\r\u001b[K     |████████████████████████████████| 51kB 3.2MB/s \n",
            "\u001b[?25hRequirement already satisfied: seaborn in /usr/local/lib/python3.6/dist-packages (from auto_ts) (0.10.1)\n",
            "Requirement already satisfied: fbprophet in /usr/local/lib/python3.6/dist-packages (from auto_ts) (0.6)\n",
            "Requirement already satisfied: matplotlib in /usr/local/lib/python3.6/dist-packages (from auto_ts) (3.2.2)\n",
            "Requirement already satisfied: ipython in /usr/local/lib/python3.6/dist-packages (from auto_ts) (5.5.0)\n",
            "Requirement already satisfied: statsmodels in /usr/local/lib/python3.6/dist-packages (from auto_ts) (0.10.2)\n",
            "Requirement already satisfied: pandas in /usr/local/lib/python3.6/dist-packages (from auto_ts) (1.0.5)\n",
            "Requirement already satisfied: jupyter in /usr/local/lib/python3.6/dist-packages (from auto_ts) (1.0.0)\n",
            "Collecting pyflux\n",
            "\u001b[?25l  Downloading https://files.pythonhosted.org/packages/37/e2/ac8ea14d34556e83a9fe9e23ba7b02ca14951849b9637c238ca83d04ac3c/pyflux-0.4.15.tar.gz (1.3MB)\n",
            "\u001b[K     |████████████████████████████████| 1.3MB 12.2MB/s \n",
            "\u001b[?25hRequirement already satisfied: scikit-learn in /usr/local/lib/python3.6/dist-packages (from auto_ts) (0.22.2.post1)\n",
            "Requirement already satisfied: scipy>=1.0.1 in /usr/local/lib/python3.6/dist-packages (from seaborn->auto_ts) (1.4.1)\n",
            "Requirement already satisfied: numpy>=1.13.3 in /usr/local/lib/python3.6/dist-packages (from seaborn->auto_ts) (1.18.5)\n",
            "Requirement already satisfied: Cython>=0.22 in /usr/local/lib/python3.6/dist-packages (from fbprophet->auto_ts) (0.29.21)\n",
            "Requirement already satisfied: cmdstanpy==0.4 in /usr/local/lib/python3.6/dist-packages (from fbprophet->auto_ts) (0.4.0)\n",
            "Requirement already satisfied: pystan>=2.14 in /usr/local/lib/python3.6/dist-packages (from fbprophet->auto_ts) (2.19.1.1)\n",
            "Requirement already satisfied: LunarCalendar>=0.0.9 in /usr/local/lib/python3.6/dist-packages (from fbprophet->auto_ts) (0.0.9)\n",
            "Requirement already satisfied: convertdate>=2.1.2 in /usr/local/lib/python3.6/dist-packages (from fbprophet->auto_ts) (2.2.1)\n",
            "Requirement already satisfied: holidays>=0.9.5 in /usr/local/lib/python3.6/dist-packages (from fbprophet->auto_ts) (0.9.12)\n",
            "Requirement already satisfied: setuptools-git>=1.2 in /usr/local/lib/python3.6/dist-packages (from fbprophet->auto_ts) (1.2)\n",
            "Requirement already satisfied: python-dateutil>=2.8.0 in /usr/local/lib/python3.6/dist-packages (from fbprophet->auto_ts) (2.8.1)\n",
            "Requirement already satisfied: cycler>=0.10 in /usr/local/lib/python3.6/dist-packages (from matplotlib->auto_ts) (0.10.0)\n",
            "Requirement already satisfied: pyparsing!=2.0.4,!=2.1.2,!=2.1.6,>=2.0.1 in /usr/local/lib/python3.6/dist-packages (from matplotlib->auto_ts) (2.4.7)\n",
            "Requirement already satisfied: kiwisolver>=1.0.1 in /usr/local/lib/python3.6/dist-packages (from matplotlib->auto_ts) (1.2.0)\n",
            "Requirement already satisfied: prompt-toolkit<2.0.0,>=1.0.4 in /usr/local/lib/python3.6/dist-packages (from ipython->auto_ts) (1.0.18)\n",
            "Requirement already satisfied: traitlets>=4.2 in /usr/local/lib/python3.6/dist-packages (from ipython->auto_ts) (4.3.3)\n",
            "Requirement already satisfied: pexpect; sys_platform != \"win32\" in /usr/local/lib/python3.6/dist-packages (from ipython->auto_ts) (4.8.0)\n",
            "Requirement already satisfied: simplegeneric>0.8 in /usr/local/lib/python3.6/dist-packages (from ipython->auto_ts) (0.8.1)\n",
            "Requirement already satisfied: setuptools>=18.5 in /usr/local/lib/python3.6/dist-packages (from ipython->auto_ts) (49.2.0)\n",
            "Requirement already satisfied: pickleshare in /usr/local/lib/python3.6/dist-packages (from ipython->auto_ts) (0.7.5)\n",
            "Requirement already satisfied: pygments in /usr/local/lib/python3.6/dist-packages (from ipython->auto_ts) (2.1.3)\n",
            "Requirement already satisfied: decorator in /usr/local/lib/python3.6/dist-packages (from ipython->auto_ts) (4.4.2)\n",
            "Requirement already satisfied: patsy>=0.4.0 in /usr/local/lib/python3.6/dist-packages (from statsmodels->auto_ts) (0.5.1)\n",
            "Requirement already satisfied: pytz>=2017.2 in /usr/local/lib/python3.6/dist-packages (from pandas->auto_ts) (2018.9)\n",
            "Requirement already satisfied: notebook in /usr/local/lib/python3.6/dist-packages (from jupyter->auto_ts) (5.3.1)\n",
            "Requirement already satisfied: ipykernel in /usr/local/lib/python3.6/dist-packages (from jupyter->auto_ts) (4.10.1)\n",
            "Requirement already satisfied: qtconsole in /usr/local/lib/python3.6/dist-packages (from jupyter->auto_ts) (4.7.5)\n",
            "Requirement already satisfied: nbconvert in /usr/local/lib/python3.6/dist-packages (from jupyter->auto_ts) (5.6.1)\n",
            "Requirement already satisfied: ipywidgets in /usr/local/lib/python3.6/dist-packages (from jupyter->auto_ts) (7.5.1)\n",
            "Requirement already satisfied: jupyter-console in /usr/local/lib/python3.6/dist-packages (from jupyter->auto_ts) (5.2.0)\n",
            "Collecting numdifftools\n",
            "\u001b[?25l  Downloading https://files.pythonhosted.org/packages/ab/c0/b0d967160ecc8db52ae34e063937d85e8d386f140ad4826aae2086245a5e/numdifftools-0.9.39-py2.py3-none-any.whl (953kB)\n",
            "\u001b[K     |████████████████████████████████| 962kB 18.5MB/s \n",
            "\u001b[?25hRequirement already satisfied: joblib>=0.11 in /usr/local/lib/python3.6/dist-packages (from scikit-learn->auto_ts) (0.16.0)\n",
            "Requirement already satisfied: ephem>=3.7.5.3 in /usr/local/lib/python3.6/dist-packages (from LunarCalendar>=0.0.9->fbprophet->auto_ts) (3.7.7.1)\n",
            "Requirement already satisfied: pymeeus<=1,>=0.3.6 in /usr/local/lib/python3.6/dist-packages (from convertdate>=2.1.2->fbprophet->auto_ts) (0.3.7)\n",
            "Requirement already satisfied: six in /usr/local/lib/python3.6/dist-packages (from holidays>=0.9.5->fbprophet->auto_ts) (1.15.0)\n",
            "Requirement already satisfied: wcwidth in /usr/local/lib/python3.6/dist-packages (from prompt-toolkit<2.0.0,>=1.0.4->ipython->auto_ts) (0.2.5)\n",
            "Requirement already satisfied: ipython-genutils in /usr/local/lib/python3.6/dist-packages (from traitlets>=4.2->ipython->auto_ts) (0.2.0)\n",
            "Requirement already satisfied: ptyprocess>=0.5 in /usr/local/lib/python3.6/dist-packages (from pexpect; sys_platform != \"win32\"->ipython->auto_ts) (0.6.0)\n",
            "Requirement already satisfied: Send2Trash in /usr/local/lib/python3.6/dist-packages (from notebook->jupyter->auto_ts) (1.5.0)\n",
            "Requirement already satisfied: terminado>=0.8.1 in /usr/local/lib/python3.6/dist-packages (from notebook->jupyter->auto_ts) (0.8.3)\n",
            "Requirement already satisfied: jinja2 in /usr/local/lib/python3.6/dist-packages (from notebook->jupyter->auto_ts) (2.11.2)\n",
            "Requirement already satisfied: tornado>=4 in /usr/local/lib/python3.6/dist-packages (from notebook->jupyter->auto_ts) (5.1.1)\n",
            "Requirement already satisfied: nbformat in /usr/local/lib/python3.6/dist-packages (from notebook->jupyter->auto_ts) (5.0.7)\n",
            "Requirement already satisfied: jupyter-core>=4.4.0 in /usr/local/lib/python3.6/dist-packages (from notebook->jupyter->auto_ts) (4.6.3)\n",
            "Requirement already satisfied: jupyter-client>=5.2.0 in /usr/local/lib/python3.6/dist-packages (from notebook->jupyter->auto_ts) (5.3.5)\n",
            "Requirement already satisfied: qtpy in /usr/local/lib/python3.6/dist-packages (from qtconsole->jupyter->auto_ts) (1.9.0)\n",
            "Requirement already satisfied: pyzmq>=17.1 in /usr/local/lib/python3.6/dist-packages (from qtconsole->jupyter->auto_ts) (19.0.1)\n",
            "Requirement already satisfied: testpath in /usr/local/lib/python3.6/dist-packages (from nbconvert->jupyter->auto_ts) (0.4.4)\n",
            "Requirement already satisfied: entrypoints>=0.2.2 in /usr/local/lib/python3.6/dist-packages (from nbconvert->jupyter->auto_ts) (0.3)\n",
            "Requirement already satisfied: bleach in /usr/local/lib/python3.6/dist-packages (from nbconvert->jupyter->auto_ts) (3.1.5)\n",
            "Requirement already satisfied: pandocfilters>=1.4.1 in /usr/local/lib/python3.6/dist-packages (from nbconvert->jupyter->auto_ts) (1.4.2)\n",
            "Requirement already satisfied: defusedxml in /usr/local/lib/python3.6/dist-packages (from nbconvert->jupyter->auto_ts) (0.6.0)\n",
            "Requirement already satisfied: mistune<2,>=0.8.1 in /usr/local/lib/python3.6/dist-packages (from nbconvert->jupyter->auto_ts) (0.8.4)\n",
            "Requirement already satisfied: widgetsnbextension~=3.5.0 in /usr/local/lib/python3.6/dist-packages (from ipywidgets->jupyter->auto_ts) (3.5.1)\n",
            "Requirement already satisfied: MarkupSafe>=0.23 in /usr/local/lib/python3.6/dist-packages (from jinja2->notebook->jupyter->auto_ts) (1.1.1)\n",
            "Requirement already satisfied: jsonschema!=2.5.0,>=2.4 in /usr/local/lib/python3.6/dist-packages (from nbformat->notebook->jupyter->auto_ts) (2.6.0)\n",
            "Requirement already satisfied: packaging in /usr/local/lib/python3.6/dist-packages (from bleach->nbconvert->jupyter->auto_ts) (20.4)\n",
            "Requirement already satisfied: webencodings in /usr/local/lib/python3.6/dist-packages (from bleach->nbconvert->jupyter->auto_ts) (0.5.1)\n",
            "Building wheels for collected packages: pyflux\n",
            "  Building wheel for pyflux (setup.py) ... \u001b[?25l\u001b[?25hdone\n",
            "  Created wheel for pyflux: filename=pyflux-0.4.15-cp36-cp36m-linux_x86_64.whl size=4656566 sha256=dd9cb65dfa0b68933fa35c101934f86cb70997589f2e61a9d1ba939721740c9d\n",
            "  Stored in directory: /root/.cache/pip/wheels/36/24/09/d18fa4f926cc90598d23ebd09fb4b0fd7b3dd1d2f506b952de\n",
            "Successfully built pyflux\n",
            "Installing collected packages: numdifftools, pyflux, auto-ts\n",
            "Successfully installed auto-ts-0.0.20 numdifftools-0.9.39 pyflux-0.4.15\n"
          ],
          "name": "stdout"
        }
      ]
    },
    {
      "cell_type": "code",
      "metadata": {
        "id": "rMIwolo13TUY",
        "colab_type": "code",
        "colab": {
          "base_uri": "https://localhost:8080/",
          "height": 122
        },
        "outputId": "52705872-de72-491d-ba46-8a765920f01f"
      },
      "source": [
        "from google.colab import drive\n",
        "drive.mount('/content/gdrive',force_remount=True)"
      ],
      "execution_count": null,
      "outputs": [
        {
          "output_type": "stream",
          "text": [
            "Go to this URL in a browser: https://accounts.google.com/o/oauth2/auth?client_id=947318989803-6bn6qk8qdgf4n4g3pfee6491hc0brc4i.apps.googleusercontent.com&redirect_uri=urn%3aietf%3awg%3aoauth%3a2.0%3aoob&response_type=code&scope=email%20https%3a%2f%2fwww.googleapis.com%2fauth%2fdocs.test%20https%3a%2f%2fwww.googleapis.com%2fauth%2fdrive%20https%3a%2f%2fwww.googleapis.com%2fauth%2fdrive.photos.readonly%20https%3a%2f%2fwww.googleapis.com%2fauth%2fpeopleapi.readonly\n",
            "\n",
            "Enter your authorization code:\n",
            "··········\n",
            "Mounted at /content/gdrive\n"
          ],
          "name": "stdout"
        }
      ]
    },
    {
      "cell_type": "code",
      "metadata": {
        "id": "W11EdUZK37x0",
        "colab_type": "code",
        "colab": {}
      },
      "source": [
        "import pandas as pd"
      ],
      "execution_count": null,
      "outputs": []
    },
    {
      "cell_type": "code",
      "metadata": {
        "id": "7Jgwp5ETR8mg",
        "colab_type": "code",
        "colab": {
          "base_uri": "https://localhost:8080/",
          "height": 35
        },
        "outputId": "34ccf231-f7aa-4e91-ba08-64b682024d55"
      },
      "source": [
        "pd.__version__"
      ],
      "execution_count": null,
      "outputs": [
        {
          "output_type": "execute_result",
          "data": {
            "application/vnd.google.colaboratory.intrinsic+json": {
              "type": "string"
            },
            "text/plain": [
              "'1.0.5'"
            ]
          },
          "metadata": {
            "tags": []
          },
          "execution_count": 4
        }
      ]
    },
    {
      "cell_type": "code",
      "metadata": {
        "id": "lxa5iUEKP5fW",
        "colab_type": "code",
        "colab": {
          "base_uri": "https://localhost:8080/",
          "height": 34
        },
        "outputId": "70fb8414-d983-41d9-a650-475c6a00c04f"
      },
      "source": [
        "s = input('State:')"
      ],
      "execution_count": null,
      "outputs": [
        {
          "output_type": "stream",
          "text": [
            "State:Nagaland\n"
          ],
          "name": "stdout"
        }
      ]
    },
    {
      "cell_type": "code",
      "metadata": {
        "id": "EXWGyZ-e4uA8",
        "colab_type": "code",
        "colab": {
          "base_uri": "https://localhost:8080/",
          "height": 221
        },
        "outputId": "28cc6057-a663-4d77-a650-9a3937277652"
      },
      "source": [
        "c = input('Commodity:')\n",
        "df=pd.read_csv(\"/content/gdrive/My Drive/ML/New states cleaned/\"+s+'/'+c+\".csv\")\n",
        "df.head()"
      ],
      "execution_count": null,
      "outputs": [
        {
          "output_type": "stream",
          "text": [
            "Commodity:Potato\n"
          ],
          "name": "stdout"
        },
        {
          "output_type": "execute_result",
          "data": {
            "text/html": [
              "<div>\n",
              "<style scoped>\n",
              "    .dataframe tbody tr th:only-of-type {\n",
              "        vertical-align: middle;\n",
              "    }\n",
              "\n",
              "    .dataframe tbody tr th {\n",
              "        vertical-align: top;\n",
              "    }\n",
              "\n",
              "    .dataframe thead th {\n",
              "        text-align: right;\n",
              "    }\n",
              "</style>\n",
              "<table border=\"1\" class=\"dataframe\">\n",
              "  <thead>\n",
              "    <tr style=\"text-align: right;\">\n",
              "      <th></th>\n",
              "      <th>Unnamed: 0</th>\n",
              "      <th>Price Date</th>\n",
              "      <th>States</th>\n",
              "      <th>Commodity</th>\n",
              "      <th>Modal Price (Rs./Quintal)</th>\n",
              "    </tr>\n",
              "  </thead>\n",
              "  <tbody>\n",
              "    <tr>\n",
              "      <th>0</th>\n",
              "      <td>0</td>\n",
              "      <td>2014-01-15</td>\n",
              "      <td>Nagaland</td>\n",
              "      <td>Potato</td>\n",
              "      <td>1250.000000</td>\n",
              "    </tr>\n",
              "    <tr>\n",
              "      <th>1</th>\n",
              "      <td>1</td>\n",
              "      <td>2014-01-16</td>\n",
              "      <td>Nagaland</td>\n",
              "      <td>Potato</td>\n",
              "      <td>1725.000000</td>\n",
              "    </tr>\n",
              "    <tr>\n",
              "      <th>2</th>\n",
              "      <td>2</td>\n",
              "      <td>2014-01-17</td>\n",
              "      <td>Nagaland</td>\n",
              "      <td>Potato</td>\n",
              "      <td>1916.666667</td>\n",
              "    </tr>\n",
              "    <tr>\n",
              "      <th>3</th>\n",
              "      <td>3</td>\n",
              "      <td>2014-01-20</td>\n",
              "      <td>Nagaland</td>\n",
              "      <td>Potato</td>\n",
              "      <td>1250.000000</td>\n",
              "    </tr>\n",
              "    <tr>\n",
              "      <th>4</th>\n",
              "      <td>4</td>\n",
              "      <td>2014-01-23</td>\n",
              "      <td>Nagaland</td>\n",
              "      <td>Potato</td>\n",
              "      <td>1250.000000</td>\n",
              "    </tr>\n",
              "  </tbody>\n",
              "</table>\n",
              "</div>"
            ],
            "text/plain": [
              "   Unnamed: 0  Price Date    States Commodity  Modal Price (Rs./Quintal)\n",
              "0           0  2014-01-15  Nagaland    Potato                1250.000000\n",
              "1           1  2014-01-16  Nagaland    Potato                1725.000000\n",
              "2           2  2014-01-17  Nagaland    Potato                1916.666667\n",
              "3           3  2014-01-20  Nagaland    Potato                1250.000000\n",
              "4           4  2014-01-23  Nagaland    Potato                1250.000000"
            ]
          },
          "metadata": {
            "tags": []
          },
          "execution_count": 38
        }
      ]
    },
    {
      "cell_type": "code",
      "metadata": {
        "id": "qiw3pYXI5uGG",
        "colab_type": "code",
        "colab": {}
      },
      "source": [
        "if 'State' in df.columns:\n",
        "  a = 'State'\n",
        "elif 'States' in df.columns:\n",
        "  a = 'States'\n",
        "df.drop([\"Unnamed: 0\",\"Commodity\",a],axis=1,inplace=True)"
      ],
      "execution_count": null,
      "outputs": []
    },
    {
      "cell_type": "code",
      "metadata": {
        "id": "JwSdgt1e51gc",
        "colab_type": "code",
        "colab": {}
      },
      "source": [
        "df.columns=[\"Date\",\"Price\"]"
      ],
      "execution_count": null,
      "outputs": []
    },
    {
      "cell_type": "code",
      "metadata": {
        "id": "wGqjBLN46ALe",
        "colab_type": "code",
        "colab": {
          "base_uri": "https://localhost:8080/",
          "height": 204
        },
        "outputId": "0d80ba7d-f884-4656-aca0-e6bf31cb1854"
      },
      "source": [
        "df.head()"
      ],
      "execution_count": null,
      "outputs": [
        {
          "output_type": "execute_result",
          "data": {
            "text/html": [
              "<div>\n",
              "<style scoped>\n",
              "    .dataframe tbody tr th:only-of-type {\n",
              "        vertical-align: middle;\n",
              "    }\n",
              "\n",
              "    .dataframe tbody tr th {\n",
              "        vertical-align: top;\n",
              "    }\n",
              "\n",
              "    .dataframe thead th {\n",
              "        text-align: right;\n",
              "    }\n",
              "</style>\n",
              "<table border=\"1\" class=\"dataframe\">\n",
              "  <thead>\n",
              "    <tr style=\"text-align: right;\">\n",
              "      <th></th>\n",
              "      <th>Date</th>\n",
              "      <th>Price</th>\n",
              "    </tr>\n",
              "  </thead>\n",
              "  <tbody>\n",
              "    <tr>\n",
              "      <th>0</th>\n",
              "      <td>2014-01-15</td>\n",
              "      <td>1250.000000</td>\n",
              "    </tr>\n",
              "    <tr>\n",
              "      <th>1</th>\n",
              "      <td>2014-01-16</td>\n",
              "      <td>1725.000000</td>\n",
              "    </tr>\n",
              "    <tr>\n",
              "      <th>2</th>\n",
              "      <td>2014-01-17</td>\n",
              "      <td>1916.666667</td>\n",
              "    </tr>\n",
              "    <tr>\n",
              "      <th>3</th>\n",
              "      <td>2014-01-20</td>\n",
              "      <td>1250.000000</td>\n",
              "    </tr>\n",
              "    <tr>\n",
              "      <th>4</th>\n",
              "      <td>2014-01-23</td>\n",
              "      <td>1250.000000</td>\n",
              "    </tr>\n",
              "  </tbody>\n",
              "</table>\n",
              "</div>"
            ],
            "text/plain": [
              "         Date        Price\n",
              "0  2014-01-15  1250.000000\n",
              "1  2014-01-16  1725.000000\n",
              "2  2014-01-17  1916.666667\n",
              "3  2014-01-20  1250.000000\n",
              "4  2014-01-23  1250.000000"
            ]
          },
          "metadata": {
            "tags": []
          },
          "execution_count": 41
        }
      ]
    },
    {
      "cell_type": "code",
      "metadata": {
        "id": "ne0PsOWZ-L3-",
        "colab_type": "code",
        "colab": {
          "base_uri": "https://localhost:8080/",
          "height": 35
        },
        "outputId": "7e434060-b645-4649-c476-0d186f700cbd"
      },
      "source": [
        "df1 = df[ df['Date'] > '2019-31-12']\n",
        "s = df[ df['Date'] == df1.iloc[0][0]].index[0]\n",
        "df1.iloc[0][0]"
      ],
      "execution_count": null,
      "outputs": [
        {
          "output_type": "execute_result",
          "data": {
            "application/vnd.google.colaboratory.intrinsic+json": {
              "type": "string"
            },
            "text/plain": [
              "'2020-01-18'"
            ]
          },
          "metadata": {
            "tags": []
          },
          "execution_count": 42
        }
      ]
    },
    {
      "cell_type": "code",
      "metadata": {
        "id": "6ZA8fAQu6Q_w",
        "colab_type": "code",
        "colab": {
          "base_uri": "https://localhost:8080/",
          "height": 419
        },
        "outputId": "3f6ba0c1-165b-4d17-f640-fbae1a23cfc7"
      },
      "source": [
        "train=df.iloc[:s,:]\n",
        "train"
      ],
      "execution_count": null,
      "outputs": [
        {
          "output_type": "execute_result",
          "data": {
            "text/html": [
              "<div>\n",
              "<style scoped>\n",
              "    .dataframe tbody tr th:only-of-type {\n",
              "        vertical-align: middle;\n",
              "    }\n",
              "\n",
              "    .dataframe tbody tr th {\n",
              "        vertical-align: top;\n",
              "    }\n",
              "\n",
              "    .dataframe thead th {\n",
              "        text-align: right;\n",
              "    }\n",
              "</style>\n",
              "<table border=\"1\" class=\"dataframe\">\n",
              "  <thead>\n",
              "    <tr style=\"text-align: right;\">\n",
              "      <th></th>\n",
              "      <th>Date</th>\n",
              "      <th>Price</th>\n",
              "    </tr>\n",
              "  </thead>\n",
              "  <tbody>\n",
              "    <tr>\n",
              "      <th>0</th>\n",
              "      <td>2014-01-15</td>\n",
              "      <td>1250.000000</td>\n",
              "    </tr>\n",
              "    <tr>\n",
              "      <th>1</th>\n",
              "      <td>2014-01-16</td>\n",
              "      <td>1725.000000</td>\n",
              "    </tr>\n",
              "    <tr>\n",
              "      <th>2</th>\n",
              "      <td>2014-01-17</td>\n",
              "      <td>1916.666667</td>\n",
              "    </tr>\n",
              "    <tr>\n",
              "      <th>3</th>\n",
              "      <td>2014-01-20</td>\n",
              "      <td>1250.000000</td>\n",
              "    </tr>\n",
              "    <tr>\n",
              "      <th>4</th>\n",
              "      <td>2014-01-23</td>\n",
              "      <td>1250.000000</td>\n",
              "    </tr>\n",
              "    <tr>\n",
              "      <th>...</th>\n",
              "      <td>...</td>\n",
              "      <td>...</td>\n",
              "    </tr>\n",
              "    <tr>\n",
              "      <th>868</th>\n",
              "      <td>2019-12-26</td>\n",
              "      <td>1100.000000</td>\n",
              "    </tr>\n",
              "    <tr>\n",
              "      <th>869</th>\n",
              "      <td>2019-12-27</td>\n",
              "      <td>1200.000000</td>\n",
              "    </tr>\n",
              "    <tr>\n",
              "      <th>870</th>\n",
              "      <td>2019-12-28</td>\n",
              "      <td>1100.000000</td>\n",
              "    </tr>\n",
              "    <tr>\n",
              "      <th>871</th>\n",
              "      <td>2019-12-30</td>\n",
              "      <td>1200.000000</td>\n",
              "    </tr>\n",
              "    <tr>\n",
              "      <th>872</th>\n",
              "      <td>2019-12-31</td>\n",
              "      <td>1200.000000</td>\n",
              "    </tr>\n",
              "  </tbody>\n",
              "</table>\n",
              "<p>873 rows × 2 columns</p>\n",
              "</div>"
            ],
            "text/plain": [
              "           Date        Price\n",
              "0    2014-01-15  1250.000000\n",
              "1    2014-01-16  1725.000000\n",
              "2    2014-01-17  1916.666667\n",
              "3    2014-01-20  1250.000000\n",
              "4    2014-01-23  1250.000000\n",
              "..          ...          ...\n",
              "868  2019-12-26  1100.000000\n",
              "869  2019-12-27  1200.000000\n",
              "870  2019-12-28  1100.000000\n",
              "871  2019-12-30  1200.000000\n",
              "872  2019-12-31  1200.000000\n",
              "\n",
              "[873 rows x 2 columns]"
            ]
          },
          "metadata": {
            "tags": []
          },
          "execution_count": 43
        }
      ]
    },
    {
      "cell_type": "code",
      "metadata": {
        "id": "N2KgjFwp6cz0",
        "colab_type": "code",
        "colab": {
          "base_uri": "https://localhost:8080/",
          "height": 1000
        },
        "outputId": "5f9b451f-9345-4a84-8681-e9e40c72bbee"
      },
      "source": [
        "test=df.iloc[s:,:]\n",
        "test"
      ],
      "execution_count": null,
      "outputs": [
        {
          "output_type": "execute_result",
          "data": {
            "text/html": [
              "<div>\n",
              "<style scoped>\n",
              "    .dataframe tbody tr th:only-of-type {\n",
              "        vertical-align: middle;\n",
              "    }\n",
              "\n",
              "    .dataframe tbody tr th {\n",
              "        vertical-align: top;\n",
              "    }\n",
              "\n",
              "    .dataframe thead th {\n",
              "        text-align: right;\n",
              "    }\n",
              "</style>\n",
              "<table border=\"1\" class=\"dataframe\">\n",
              "  <thead>\n",
              "    <tr style=\"text-align: right;\">\n",
              "      <th></th>\n",
              "      <th>Date</th>\n",
              "      <th>Price</th>\n",
              "    </tr>\n",
              "  </thead>\n",
              "  <tbody>\n",
              "    <tr>\n",
              "      <th>873</th>\n",
              "      <td>2020-01-18</td>\n",
              "      <td>4500.000000</td>\n",
              "    </tr>\n",
              "    <tr>\n",
              "      <th>874</th>\n",
              "      <td>2020-01-25</td>\n",
              "      <td>4500.000000</td>\n",
              "    </tr>\n",
              "    <tr>\n",
              "      <th>875</th>\n",
              "      <td>2020-01-27</td>\n",
              "      <td>3100.000000</td>\n",
              "    </tr>\n",
              "    <tr>\n",
              "      <th>876</th>\n",
              "      <td>2020-01-31</td>\n",
              "      <td>5300.000000</td>\n",
              "    </tr>\n",
              "    <tr>\n",
              "      <th>877</th>\n",
              "      <td>2020-02-01</td>\n",
              "      <td>4500.000000</td>\n",
              "    </tr>\n",
              "    <tr>\n",
              "      <th>878</th>\n",
              "      <td>2020-02-03</td>\n",
              "      <td>2900.000000</td>\n",
              "    </tr>\n",
              "    <tr>\n",
              "      <th>879</th>\n",
              "      <td>2020-02-10</td>\n",
              "      <td>3100.000000</td>\n",
              "    </tr>\n",
              "    <tr>\n",
              "      <th>880</th>\n",
              "      <td>2020-02-11</td>\n",
              "      <td>1000.000000</td>\n",
              "    </tr>\n",
              "    <tr>\n",
              "      <th>881</th>\n",
              "      <td>2020-02-12</td>\n",
              "      <td>1200.000000</td>\n",
              "    </tr>\n",
              "    <tr>\n",
              "      <th>882</th>\n",
              "      <td>2020-02-13</td>\n",
              "      <td>1100.000000</td>\n",
              "    </tr>\n",
              "    <tr>\n",
              "      <th>883</th>\n",
              "      <td>2020-02-14</td>\n",
              "      <td>2900.000000</td>\n",
              "    </tr>\n",
              "    <tr>\n",
              "      <th>884</th>\n",
              "      <td>2020-02-15</td>\n",
              "      <td>1200.000000</td>\n",
              "    </tr>\n",
              "    <tr>\n",
              "      <th>885</th>\n",
              "      <td>2020-02-17</td>\n",
              "      <td>2100.000000</td>\n",
              "    </tr>\n",
              "    <tr>\n",
              "      <th>886</th>\n",
              "      <td>2020-02-18</td>\n",
              "      <td>1100.000000</td>\n",
              "    </tr>\n",
              "    <tr>\n",
              "      <th>887</th>\n",
              "      <td>2020-02-19</td>\n",
              "      <td>1200.000000</td>\n",
              "    </tr>\n",
              "    <tr>\n",
              "      <th>888</th>\n",
              "      <td>2020-02-20</td>\n",
              "      <td>1100.000000</td>\n",
              "    </tr>\n",
              "    <tr>\n",
              "      <th>889</th>\n",
              "      <td>2020-02-21</td>\n",
              "      <td>3200.000000</td>\n",
              "    </tr>\n",
              "    <tr>\n",
              "      <th>890</th>\n",
              "      <td>2020-02-22</td>\n",
              "      <td>2800.000000</td>\n",
              "    </tr>\n",
              "    <tr>\n",
              "      <th>891</th>\n",
              "      <td>2020-02-24</td>\n",
              "      <td>3100.000000</td>\n",
              "    </tr>\n",
              "    <tr>\n",
              "      <th>892</th>\n",
              "      <td>2020-02-25</td>\n",
              "      <td>1200.000000</td>\n",
              "    </tr>\n",
              "    <tr>\n",
              "      <th>893</th>\n",
              "      <td>2020-02-26</td>\n",
              "      <td>1100.000000</td>\n",
              "    </tr>\n",
              "    <tr>\n",
              "      <th>894</th>\n",
              "      <td>2020-02-27</td>\n",
              "      <td>1100.000000</td>\n",
              "    </tr>\n",
              "    <tr>\n",
              "      <th>895</th>\n",
              "      <td>2020-02-28</td>\n",
              "      <td>3566.666667</td>\n",
              "    </tr>\n",
              "    <tr>\n",
              "      <th>896</th>\n",
              "      <td>2020-02-29</td>\n",
              "      <td>4500.000000</td>\n",
              "    </tr>\n",
              "    <tr>\n",
              "      <th>897</th>\n",
              "      <td>2020-03-02</td>\n",
              "      <td>2900.000000</td>\n",
              "    </tr>\n",
              "    <tr>\n",
              "      <th>898</th>\n",
              "      <td>2020-03-09</td>\n",
              "      <td>2100.000000</td>\n",
              "    </tr>\n",
              "    <tr>\n",
              "      <th>899</th>\n",
              "      <td>2020-03-10</td>\n",
              "      <td>1000.000000</td>\n",
              "    </tr>\n",
              "    <tr>\n",
              "      <th>900</th>\n",
              "      <td>2020-03-11</td>\n",
              "      <td>1300.000000</td>\n",
              "    </tr>\n",
              "    <tr>\n",
              "      <th>901</th>\n",
              "      <td>2020-03-12</td>\n",
              "      <td>1100.000000</td>\n",
              "    </tr>\n",
              "    <tr>\n",
              "      <th>902</th>\n",
              "      <td>2020-03-13</td>\n",
              "      <td>1000.000000</td>\n",
              "    </tr>\n",
              "    <tr>\n",
              "      <th>903</th>\n",
              "      <td>2020-03-14</td>\n",
              "      <td>1200.000000</td>\n",
              "    </tr>\n",
              "    <tr>\n",
              "      <th>904</th>\n",
              "      <td>2020-03-16</td>\n",
              "      <td>1950.000000</td>\n",
              "    </tr>\n",
              "    <tr>\n",
              "      <th>905</th>\n",
              "      <td>2020-03-17</td>\n",
              "      <td>1100.000000</td>\n",
              "    </tr>\n",
              "    <tr>\n",
              "      <th>906</th>\n",
              "      <td>2020-03-18</td>\n",
              "      <td>1100.000000</td>\n",
              "    </tr>\n",
              "    <tr>\n",
              "      <th>907</th>\n",
              "      <td>2020-03-19</td>\n",
              "      <td>1300.000000</td>\n",
              "    </tr>\n",
              "    <tr>\n",
              "      <th>908</th>\n",
              "      <td>2020-03-20</td>\n",
              "      <td>1300.000000</td>\n",
              "    </tr>\n",
              "    <tr>\n",
              "      <th>909</th>\n",
              "      <td>2020-03-21</td>\n",
              "      <td>1100.000000</td>\n",
              "    </tr>\n",
              "    <tr>\n",
              "      <th>910</th>\n",
              "      <td>2020-03-23</td>\n",
              "      <td>2050.000000</td>\n",
              "    </tr>\n",
              "    <tr>\n",
              "      <th>911</th>\n",
              "      <td>2020-03-24</td>\n",
              "      <td>1100.000000</td>\n",
              "    </tr>\n",
              "    <tr>\n",
              "      <th>912</th>\n",
              "      <td>2020-03-25</td>\n",
              "      <td>1100.000000</td>\n",
              "    </tr>\n",
              "    <tr>\n",
              "      <th>913</th>\n",
              "      <td>2020-03-26</td>\n",
              "      <td>1200.000000</td>\n",
              "    </tr>\n",
              "    <tr>\n",
              "      <th>914</th>\n",
              "      <td>2020-03-27</td>\n",
              "      <td>1300.000000</td>\n",
              "    </tr>\n",
              "    <tr>\n",
              "      <th>915</th>\n",
              "      <td>2020-03-28</td>\n",
              "      <td>1100.000000</td>\n",
              "    </tr>\n",
              "    <tr>\n",
              "      <th>916</th>\n",
              "      <td>2020-03-30</td>\n",
              "      <td>1200.000000</td>\n",
              "    </tr>\n",
              "    <tr>\n",
              "      <th>917</th>\n",
              "      <td>2020-03-31</td>\n",
              "      <td>1300.000000</td>\n",
              "    </tr>\n",
              "  </tbody>\n",
              "</table>\n",
              "</div>"
            ],
            "text/plain": [
              "           Date        Price\n",
              "873  2020-01-18  4500.000000\n",
              "874  2020-01-25  4500.000000\n",
              "875  2020-01-27  3100.000000\n",
              "876  2020-01-31  5300.000000\n",
              "877  2020-02-01  4500.000000\n",
              "878  2020-02-03  2900.000000\n",
              "879  2020-02-10  3100.000000\n",
              "880  2020-02-11  1000.000000\n",
              "881  2020-02-12  1200.000000\n",
              "882  2020-02-13  1100.000000\n",
              "883  2020-02-14  2900.000000\n",
              "884  2020-02-15  1200.000000\n",
              "885  2020-02-17  2100.000000\n",
              "886  2020-02-18  1100.000000\n",
              "887  2020-02-19  1200.000000\n",
              "888  2020-02-20  1100.000000\n",
              "889  2020-02-21  3200.000000\n",
              "890  2020-02-22  2800.000000\n",
              "891  2020-02-24  3100.000000\n",
              "892  2020-02-25  1200.000000\n",
              "893  2020-02-26  1100.000000\n",
              "894  2020-02-27  1100.000000\n",
              "895  2020-02-28  3566.666667\n",
              "896  2020-02-29  4500.000000\n",
              "897  2020-03-02  2900.000000\n",
              "898  2020-03-09  2100.000000\n",
              "899  2020-03-10  1000.000000\n",
              "900  2020-03-11  1300.000000\n",
              "901  2020-03-12  1100.000000\n",
              "902  2020-03-13  1000.000000\n",
              "903  2020-03-14  1200.000000\n",
              "904  2020-03-16  1950.000000\n",
              "905  2020-03-17  1100.000000\n",
              "906  2020-03-18  1100.000000\n",
              "907  2020-03-19  1300.000000\n",
              "908  2020-03-20  1300.000000\n",
              "909  2020-03-21  1100.000000\n",
              "910  2020-03-23  2050.000000\n",
              "911  2020-03-24  1100.000000\n",
              "912  2020-03-25  1100.000000\n",
              "913  2020-03-26  1200.000000\n",
              "914  2020-03-27  1300.000000\n",
              "915  2020-03-28  1100.000000\n",
              "916  2020-03-30  1200.000000\n",
              "917  2020-03-31  1300.000000"
            ]
          },
          "metadata": {
            "tags": []
          },
          "execution_count": 44
        }
      ]
    },
    {
      "cell_type": "code",
      "metadata": {
        "id": "xZsCNCJ06t54",
        "colab_type": "code",
        "colab": {}
      },
      "source": [
        "import auto_ts as AT"
      ],
      "execution_count": null,
      "outputs": []
    },
    {
      "cell_type": "code",
      "metadata": {
        "id": "xWAjmqqS61kj",
        "colab_type": "code",
        "colab": {
          "base_uri": "https://localhost:8080/",
          "height": 1000
        },
        "outputId": "92d0183b-37ea-40e3-90f8-6b7cce50592d"
      },
      "source": [
        "ml=AT.Auto_Timeseries(train,\"Date\",\"Price\",\",\",score_type=\"rmse\",forecast_period=360,time_interval=\"Days\",model_type=\"best\",seasonality=True)"
      ],
      "execution_count": null,
      "outputs": [
        {
          "output_type": "stream",
          "text": [
            "Input is data frame. Performing Time Series Analysis\n",
            "    Dataframe loaded successfully. Shape of data set = (873, 1)\n",
            "    Target variable = Price\n",
            "Time Interval is given as Days\n",
            "\u001b[1mWARNING: Running best models will take time... Be Patient...\u001b[0m\n",
            "\u001b[1m\n",
            "Running Facebook Prophet Model...\u001b[0m\n",
            "Preparing Time Series data for FB Prophet: sample row before\n",
            "              Price\n",
            "Date              \n",
            "2014-01-15  1250.0\n",
            "Time Series data: sample row after transformation\n",
            "           ds       y\n",
            "0 2014-01-15  1250.0\n",
            "    Fit-Predict data (shape=(873, 2)) with Confidence Interval = 0.95...\n",
            "Building Forecast dataframe. Forecast Period = 360\n"
          ],
          "name": "stdout"
        },
        {
          "output_type": "display_data",
          "data": {
            "image/png": "[encoded data removed]",
            "text/plain": [
              "<Figure size 1440x720 with 1 Axes>"
            ]
          },
          "metadata": {
            "tags": []
          }
        },
        {
          "output_type": "stream",
          "text": [
            "    RMSE = 116.46\n",
            "    Std Deviation of Originals = 1,829.17\n",
            "    Normalized RMSE = 6%\n",
            "\u001b[1m\n",
            "Running PyFlux Model...\u001b[0m\n",
            "Cycling through various (p,d,q) parameters\n",
            "\n",
            "Best Params Selected (based on rmse): (3, 0, 0)\n",
            "Dynamic 360-period Forecasts:\n",
            "    RMSE = 1,526.88\n",
            "    Std Deviation of Originals = 2,115.46\n",
            "    Normalized RMSE = 72%\n",
            "\u001b[1m\n",
            "Running Non Seasonal ARIMA Model...\u001b[0m\n",
            "\n",
            "Differencing = 0\n",
            " Iteration 0 completed...\n",
            " Iteration 10 completed...\n",
            "    Best AR order p = 2, MA order q = 3, Interim metric = 8949.130\n",
            "\n",
            "Differencing = 1\n",
            " Iteration 20 completed...\n",
            " Iteration 30 completed...\n",
            "    Best AR order p = 2, MA order q = 3, Interim metric = 8959.314\n",
            "\n",
            "Best model is: Non Seasonal ARIMA(2,0,3), aic = 8949.130\n",
            "####    Fitting best model for full data set now. Will take time... ######\n",
            "    ARIMA model error: predictions not available.\n",
            "\u001b[1m\n",
            "Running Seasonal SARIMAX Model...\u001b[0m\n",
            "\u001b[1mBuilding a Seasonal Model...\u001b[0m\n",
            "\u001b[1m\n",
            "    Finding best Non-Seasonal pdq Parameters:\u001b[0m\n",
            "\n",
            "Differencing = 0\n",
            "    Iteration 0 completed...\n",
            "    Best AR order p = 3, MA order q = 3, Interim metric = 8882.885\n",
            "\n",
            "Differencing = 1\n",
            "    D = 1 results in an empty ARMA set. Setting Seasonality to False since model might overfit\n",
            "\u001b[1m\n",
            "    Finding best Seasonal PDQ Model Parameters:\u001b[0m\n",
            "\n",
            "Differencing = 0\n",
            "    D = 0 results in an empty ARMA set. Setting Seasonality to False since model might overfit\n",
            "\n",
            "Differencing = 1\n",
            "    Iteration 0 completed...\n",
            "    Best AR order p = 2, MA order q = 3, Interim metric = 8894.802\n",
            "\n",
            "Best model is a Seasonal SARIMAX(3,0,3)*(2,1,3,30), aic = 8894.802\n",
            "\u001b[1mFitting best SARIMAX model for full data set\u001b[0m\n",
            "    Best aic metric = 6956.4\n",
            "Dynamic 360-Period Forecast:\n",
            "    RMSE = nan\n",
            "    Std Deviation of Originals = 2,115.46\n",
            "    Normalized RMSE = nan%\n",
            "\u001b[1m\n",
            "No VAR model created since no explanatory variables given in data set\u001b[0m\n",
            "No ML model since number of predictors is zero\n",
            "\u001b[1m\n",
            "Best Model is:\u001b[0m\n",
            "    FB_Prophet\n",
            "    Best Model Forecasts: [1787.95760371 1715.59300439 3173.80521658 ...  332.52162904  351.47698518\n",
            " 1899.57174147]\n",
            "    Best Model Score: 116.46\n"
          ],
          "name": "stdout"
        },
        {
          "output_type": "display_data",
          "data": {
            "image/png": "[encoded data removed]",
            "text/plain": [
              "<Figure size 648x648 with 3 Axes>"
            ]
          },
          "metadata": {
            "tags": []
          }
        }
      ]
    },
    {
      "cell_type": "code",
      "metadata": {
        "id": "aJvva1e966gU",
        "colab_type": "code",
        "colab": {}
      },
      "source": [
        ""
      ],
      "execution_count": null,
      "outputs": []
    }
  ]
}
